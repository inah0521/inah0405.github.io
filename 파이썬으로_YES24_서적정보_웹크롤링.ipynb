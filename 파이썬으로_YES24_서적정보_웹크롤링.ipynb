{
  "nbformat": 4,
  "nbformat_minor": 0,
  "metadata": {
    "colab": {
      "name": "파이썬으로 YES24 서적정보 웹크롤링",
      "provenance": [],
      "collapsed_sections": [],
      "authorship_tag": "ABX9TyN2oQCKenA36VkUpRS2tZ+O",
      "include_colab_link": true
    },
    "kernelspec": {
      "name": "python3",
      "display_name": "Python 3"
    }
  },
  "cells": [
    {
      "cell_type": "markdown",
      "metadata": {
        "id": "view-in-github",
        "colab_type": "text"
      },
      "source": [
        "<a href=\"https://colab.research.google.com/github/inah0521/inah0405.github.io/blob/master/%ED%8C%8C%EC%9D%B4%EC%8D%AC%EC%9C%BC%EB%A1%9C_YES24_%EC%84%9C%EC%A0%81%EC%A0%95%EB%B3%B4_%EC%9B%B9%ED%81%AC%EB%A1%A4%EB%A7%81.ipynb\" target=\"_parent\"><img src=\"https://colab.research.google.com/assets/colab-badge.svg\" alt=\"Open In Colab\"/></a>"
      ]
    },
    {
      "cell_type": "code",
      "source": [
        "pip install requests"
      ],
      "metadata": {
        "colab": {
          "base_uri": "https://localhost:8080/"
        },
        "id": "yk8gi5v7AjVV",
        "outputId": "60b165da-46e7-4f2c-d785-ddb1a787f94c"
      },
      "execution_count": 17,
      "outputs": [
        {
          "output_type": "stream",
          "name": "stdout",
          "text": [
            "Requirement already satisfied: requests in /usr/local/lib/python3.7/dist-packages (2.23.0)\n",
            "Requirement already satisfied: certifi>=2017.4.17 in /usr/local/lib/python3.7/dist-packages (from requests) (2021.10.8)\n",
            "Requirement already satisfied: idna<3,>=2.5 in /usr/local/lib/python3.7/dist-packages (from requests) (2.10)\n",
            "Requirement already satisfied: urllib3!=1.25.0,!=1.25.1,<1.26,>=1.21.1 in /usr/local/lib/python3.7/dist-packages (from requests) (1.24.3)\n",
            "Requirement already satisfied: chardet<4,>=3.0.2 in /usr/local/lib/python3.7/dist-packages (from requests) (3.0.4)\n"
          ]
        }
      ]
    },
    {
      "cell_type": "code",
      "source": [
        "from urllib.request import urlopen, Request\n",
        "import urllib\n",
        "import bs4\n",
        "import re\n",
        "\n",
        "\n",
        "#Yes24 웹페이지의 서적 정보를 가져오는 함수 .\n",
        "def get_book_info():\n",
        "\n",
        " req = requests.get('http://www.yes24.com/Product/Goods/77283734')\n",
        " raw = req.text\n",
        "\n",
        " html = BeautifulSoup(raw, 'html.parser')\n",
        " infos = html.select('div.gd_titArea')\n",
        " title = html.select('.gd_name')\n",
        " subtitle = html.select('.gd_nameE')\n",
        " writer = html.select('.gd_auth')\n",
        " publisher = html.select('.gd_pub')\n",
        " date = html.select('.gd_date')\n",
        " rating = html.select('.yes_b')\n",
        " price = html.select('.yes_m')\n",
        "\n",
        " print(\"책 제목 : \" , title[0].get_text().strip())\n",
        " print(\"책 부제 : \" , subtitle[0].get_text().strip())\n",
        " print(\"책 저자 : \" , writer[0].get_text().strip())\n",
        " print(\"출판사  : \" , publisher[0].get_text().strip())\n",
        " print(\"출간일  : \" , date[0].get_text().strip())\n",
        " print(\"순  위  : \" , rating[0].get_text().strip())\n",
        " print(\"책 가격 : \" , price[0].get_text().strip())\n",
        "\n",
        "\n",
        "\n",
        "get_book_info()\n",
        "\n"
      ],
      "metadata": {
        "colab": {
          "base_uri": "https://localhost:8080/"
        },
        "id": "yP72moVbBDVT",
        "outputId": "86d49d92-a282-44a0-93d8-5f6d890abffc"
      },
      "execution_count": 45,
      "outputs": [
        {
          "output_type": "stream",
          "name": "stdout",
          "text": [
            "책 제목 :  클린 아키텍처\n",
            "책 부제 :  소프트웨어 구조와 설계의 원칙\n",
            "책 저자 :  로버트 C. 마틴 저/송준이 역\n",
            "출판사  :  인사이트(insight)\n",
            "출간일  :  2019년 08월 20일\n",
            "순  위  :  10.0\n",
            "책 가격 :  29,000원\n"
          ]
        }
      ]
    }
  ]
}